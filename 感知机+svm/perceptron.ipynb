{
 "cells": [
  {
   "cell_type": "code",
   "execution_count": 10,
   "metadata": {},
   "outputs": [
    {
     "name": "stdout",
     "output_type": "stream",
     "text": [
      "Using matplotlib backend: Qt5Agg\n",
      "Populating the interactive namespace from numpy and matplotlib\n",
      "feature_name ['sepal length (cm)', 'sepal width (cm)', 'petal length (cm)', 'petal width (cm)']\n"
     ]
    }
   ],
   "source": [
    "%pylab\n",
    "%matplotlib inline\n",
    "from sklearn.datasets import load_iris\n",
    "from sklearn.model_selection import train_test_split\n",
    "iris = load_iris()#导入iris数据集\n",
    "\n",
    "data = iris.data\n",
    "data = data[:100]\n",
    "labels = iris.target\n",
    "labels = labels[:100]\n",
    "feature_name = iris.feature_names\n",
    "print(\"feature_name\", feature_name)\n",
    "\n",
    "#我们选择了sepal length (cm)', 'sepal width (cm)'，并且更改了labels\n",
    "data = data[:, 0:2]\n",
    "labels[labels == 0] = -1\n",
    "feature_name = feature_name[:2]\n",
    "\n",
    "X_train, X_test, y_train, y_test = train_test_split(data, labels)#划分数据集"
   ]
  },
  {
   "cell_type": "code",
   "execution_count": 37,
   "metadata": {},
   "outputs": [],
   "source": [
    "class my_svm(object):\n",
    "    def __init__(self, max_itr = 100, kernel_name = 'linear'):\n",
    "        self.max_itr = max_itr\n",
    "        self.kernel_name = kernel_name\n",
    "\n",
    "    def input_pramas(self, x, y, C = 1 ):\n",
    "        self.x = x\n",
    "        self.y = y\n",
    "        self.b = 0\n",
    "        self.C = C\n",
    "        self.dimention = len(x)\n",
    "\n",
    "        self.alp = np.zeros(self.dimention)\n",
    "        self.E = np.array([self.E_function(i) for i in range(self.dimention)])\n",
    "\n",
    "    def E_function(self, i):\n",
    "        return self.g_function(i) - self.y[i]\n",
    "\n",
    "    def g_function(self, i):\n",
    "        temp = self.b\n",
    "        for j in range(self.dimention):\n",
    "            temp += self.alp[j]*self.y[i]*self.kernel(self.x[i], self.x[j])\n",
    "        return temp\n",
    "\n",
    "    def kernel(self, xi, xj):\n",
    "        if self.kernel_name == 'linear':\n",
    "            return np.dot(xi, xj)\n",
    "        elif self.kernel_name == 'mutinomial':\n",
    "            return (np.dot(xi, xj))**2\n",
    "        else:\n",
    "            return 0\n",
    "\n",
    "    def lr_function(self, i, j):\n",
    "        return self.kernel(i, i) + self.kernel(j, j) - 2*self.kernel(i, j)\n",
    "\n",
    "    def KKT(self, i):\n",
    "        if 0 < self.alp[i] < self.C:\n",
    "            return self.y[i]*self.g_function(i) == 1\n",
    "        elif self.alp[i] == self.C:\n",
    "            return self.y[i]*self.g_function(i) <= 1\n",
    "        elif self.alp[i] == 0:\n",
    "            return self.y[i]*self.g_function(i) >= 1\n",
    "        else:\n",
    "            return False\n",
    "\n",
    "    def clip(self, alp_new_unc, L, H):\n",
    "        if alp_new_unc <= L:\n",
    "            return L\n",
    "        elif alp_new_unc >= H:\n",
    "            return H\n",
    "        else:\n",
    "            return alp_new_unc\n",
    "\n",
    "    def fit(self, x, y, C = 1):\n",
    "        self.input_pramas(x, y, C)\n",
    "        #print(self.alp)\n",
    "        for itr in range(self.max_itr):\n",
    "            for i in range(self.dimention):\n",
    "                if not self.KKT(i):\n",
    "                    alp1 = self.alp[i]\n",
    "                    E1 = self.E[i]\n",
    "                    y1 = self.y[i]\n",
    "\n",
    "                    j = np.argmax(np.abs((self.E - E1)))\n",
    "                    alp2 = self.E[j]\n",
    "                    E2 = self.E[j]\n",
    "                    y2 = self.y[j]\n",
    "\n",
    "                    lr = self.lr_function(i, j)\n",
    "                    #print(i)\n",
    "\n",
    "                    alp2_new_unc = alp2 + self.y[j]*(self.E[j] - self.E[i]) / lr\n",
    "\n",
    "                    C = self.C\n",
    "                    if y[i] == y[j]:\n",
    "                        L = max(0, alp1+alp2 - C)\n",
    "                        H = min(alp1+alp2, C)\n",
    "                    else:\n",
    "                        L = max(0, alp2 - alp1)\n",
    "                        H = min(alp2 - alp1 + C, C)\n",
    "\n",
    "                    alp2_new = self.clip(alp2_new_unc, L, H)\n",
    "                    alp1_new = alp1 + y1*y2*(alp2 - alp2_new)\n",
    "                    \n",
    "                    self.alp[i] = alp1_new\n",
    "                    self.alp[j] = alp2_new\n",
    "\n",
    "                    b1_new = -E1 + y1*self.kernel(i, i)*(alp1 - alp1_new) + y2*self.kernel(i, j)*(alp2 - alp2_new) + self.b\n",
    "                    b2_new = -E2 + y1*self.kernel(i, j)*(alp1 - alp1_new) + y2*self.kernel(j, j)*(alp2 - alp2_new) + self.b\n",
    "\n",
    "                    if 0 < alp1_new < C:\n",
    "                        b_new = b1_new\n",
    "                    elif 0 < alp2_new < C:\n",
    "                        b_new = b2_new\n",
    "                    else:\n",
    "                        b_new = (b1_new + b2_new) / 2\n",
    "\n",
    "                    self.b = b_new\n",
    "\n",
    "                    self.E[i] = self.g_function(i) - self.y[i]\n",
    "                    self.E[j] = self.g_function(j) - self.y[j]\n",
    "\n",
    "    def predict(self, x):\n",
    "        res = np.zeros(len(x))\n",
    "        for j in range(len(x)):\n",
    "            temp = self.b\n",
    "            for i in range(self.dimention):\n",
    "                temp += self.alp[i]*self.y[i]*self.kernel(i, j)\n",
    "            res[j] = 1 if temp > 0 else -1\n",
    "        return res"
   ]
  },
  {
   "cell_type": "code",
   "execution_count": 38,
   "metadata": {},
   "outputs": [
    {
     "name": "stderr",
     "output_type": "stream",
     "text": [
      "C:\\Users\\hichens\\Anaconda3\\lib\\site-packages\\ipykernel_launcher.py:22: RuntimeWarning: overflow encountered in double_scalars\n",
      "C:\\Users\\hichens\\Anaconda3\\lib\\site-packages\\ipykernel_launcher.py:88: RuntimeWarning: invalid value encountered in double_scalars\n",
      "C:\\Users\\hichens\\Anaconda3\\lib\\site-packages\\ipykernel_launcher.py:89: RuntimeWarning: invalid value encountered in double_scalars\n"
     ]
    }
   ],
   "source": [
    "pp = my_svm()\n",
    "pp.fit(X_train, y_train)"
   ]
  },
  {
   "cell_type": "code",
   "execution_count": 39,
   "metadata": {},
   "outputs": [],
   "source": [
    "y_predict = pp.predict(X_test)"
   ]
  },
  {
   "cell_type": "code",
   "execution_count": 40,
   "metadata": {},
   "outputs": [
    {
     "data": {
      "text/plain": [
       "array([-1., -1., -1., -1., -1., -1., -1., -1., -1., -1., -1., -1., -1.,\n",
       "       -1., -1., -1., -1., -1., -1., -1., -1., -1., -1., -1., -1.])"
      ]
     },
     "execution_count": 40,
     "metadata": {},
     "output_type": "execute_result"
    }
   ],
   "source": [
    "y_predict"
   ]
  },
  {
   "cell_type": "code",
   "execution_count": null,
   "metadata": {},
   "outputs": [],
   "source": []
  },
  {
   "cell_type": "code",
   "execution_count": 41,
   "metadata": {},
   "outputs": [
    {
     "ename": "AttributeError",
     "evalue": "'my_svm' object has no attribute 'score'",
     "output_type": "error",
     "traceback": [
      "\u001b[1;31m---------------------------------------------------------------------------\u001b[0m",
      "\u001b[1;31mAttributeError\u001b[0m                            Traceback (most recent call last)",
      "\u001b[1;32m<ipython-input-41-de83a6bea469>\u001b[0m in \u001b[0;36m<module>\u001b[1;34m()\u001b[0m\n\u001b[1;32m----> 1\u001b[1;33m \u001b[0mpp\u001b[0m\u001b[1;33m.\u001b[0m\u001b[0mscore\u001b[0m\u001b[1;33m(\u001b[0m\u001b[0mX_test\u001b[0m\u001b[1;33m,\u001b[0m \u001b[0my_test\u001b[0m\u001b[1;33m)\u001b[0m\u001b[1;33m\u001b[0m\u001b[0m\n\u001b[0m",
      "\u001b[1;31mAttributeError\u001b[0m: 'my_svm' object has no attribute 'score'"
     ]
    }
   ],
   "source": [
    "pp.score(X_test, y_test)"
   ]
  },
  {
   "cell_type": "code",
   "execution_count": null,
   "metadata": {},
   "outputs": [],
   "source": [
    "pp.plot(data, labels, feature_name)"
   ]
  },
  {
   "cell_type": "code",
   "execution_count": null,
   "metadata": {},
   "outputs": [],
   "source": [
    "from sklearn.linear_model import Perceptron\n",
    "pp = Perceptron()\n",
    "pp.fit(X_train, y_train)\n",
    "y_pred = pp.predict(X_test)"
   ]
  },
  {
   "cell_type": "code",
   "execution_count": null,
   "metadata": {},
   "outputs": [],
   "source": [
    "pp.score(X_test, y_test)"
   ]
  },
  {
   "cell_type": "code",
   "execution_count": null,
   "metadata": {},
   "outputs": [],
   "source": [
    "x_ponits = np.arange(4, 8)\n",
    "y_ = -(pp.coef_[0][0]*x_ponits + pp.intercept_)/pp.coef_[0][1]\n",
    "\n",
    "plt.plot(x_ponits, y_)\n",
    "\n",
    "plt.scatter(data[labels == -1][:, 0], data[labels == -1][:, 1])\n",
    "plt.scatter(data[labels == 1][:, 0], data[labels == 1][:, 1])\n",
    "plt.xlabel('sepal length')\n",
    "plt.ylabel('sepal width')\n",
    "plt.legend()"
   ]
  },
  {
   "cell_type": "code",
   "execution_count": null,
   "metadata": {},
   "outputs": [],
   "source": [
    "clf.coef_"
   ]
  },
  {
   "cell_type": "code",
   "execution_count": null,
   "metadata": {},
   "outputs": [],
   "source": []
  }
 ],
 "metadata": {
  "kernelspec": {
   "display_name": "Python 3",
   "language": "python",
   "name": "python3"
  },
  "language_info": {
   "codemirror_mode": {
    "name": "ipython",
    "version": 3
   },
   "file_extension": ".py",
   "mimetype": "text/x-python",
   "name": "python",
   "nbconvert_exporter": "python",
   "pygments_lexer": "ipython3",
   "version": "3.7.4"
  }
 },
 "nbformat": 4,
 "nbformat_minor": 2
}
