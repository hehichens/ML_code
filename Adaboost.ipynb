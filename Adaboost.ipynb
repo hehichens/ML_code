{
 "cells": [
  {
   "cell_type": "code",
   "execution_count": 1,
   "metadata": {},
   "outputs": [
    {
     "name": "stdout",
     "output_type": "stream",
     "text": [
      "Using matplotlib backend: Qt5Agg\n",
      "Populating the interactive namespace from numpy and matplotlib\n"
     ]
    }
   ],
   "source": [
    "%pylab"
   ]
  },
  {
   "cell_type": "markdown",
   "metadata": {},
   "source": [
    "$G_(x) = x > a $"
   ]
  },
  {
   "cell_type": "code",
   "execution_count": 2,
   "metadata": {},
   "outputs": [],
   "source": [
    "X = np.arange(6)\n",
    "y = np.array([1, 1, -1, -1, 1, -1])\n",
    "cut_list = [0.5, 1.5, 2.5, 3.5, 4.5]"
   ]
  },
  {
   "cell_type": "code",
   "execution_count": 8,
   "metadata": {},
   "outputs": [],
   "source": [
    "class my_adaboost():\n",
    "    def __init__(self):\n",
    "        pass\n",
    "    def G_x_vertor(self, a):\n",
    "        y_pred = []\n",
    "        #某个切分点对应的loss值\n",
    "        for x in self.X:\n",
    "            if x < a:\n",
    "                y_pred.append(1)\n",
    "            else:\n",
    "                y_pred.append(-1)\n",
    "        \n",
    "        return np.array(y_pred)\n",
    "    \n",
    "    def G_x(self, x, a):\n",
    "        if x > a:\n",
    "            return -1\n",
    "        else:\n",
    "            return 1\n",
    "    \n",
    "    def fit(self, X, y, epochs = 3):\n",
    "        self.X = X\n",
    "        self.y = y\n",
    "        self.N = len(X)\n",
    "        self.w = np.array([1/self.N]*self.N)\n",
    "        self.alpha = np.zeros(epochs)\n",
    "        self.a = np.zeros(epochs)\n",
    "        for i in range(epochs):\n",
    "            print(\"第\"+ str(i) + \"轮\")\n",
    "            print(\"w:\")\n",
    "            print(self.w)\n",
    "            self.alpha[i], self.a[i] = self.update()\n",
    "            print(\"\\n\\n\\n\")\n",
    "           \n",
    "            \n",
    "    def predict(self, X):\n",
    "        '''传入的X为array'''\n",
    "        y_pred = []\n",
    "        for x in X:\n",
    "            res = 0\n",
    "            for i in range(len(self.a)):\n",
    "                res += self.alpha[i]*self.G_x(x, self.a[i])\n",
    "            y_pred.append(G_x(x, a))\n",
    "        return np.array(y_pred)\n",
    "            \n",
    "        \n",
    "    def update(self):\n",
    "        loss_list = []\n",
    "        for cut_point in cut_list:\n",
    "            y_pred = self.G_x_vertor(cut_point)\n",
    "            mask = y_pred != self.y #获取预测不对的数据的索引\n",
    "        \n",
    "            #print(mask)\n",
    "            #print(self.w[mask])\n",
    "            loss = sum(self.w[mask])\n",
    "            #print(mask)\n",
    "            loss_list.append(loss)\n",
    "        \n",
    "        loss_array = np.array(loss_list)\n",
    "        print(\"loss:\")\n",
    "        print(loss_array)\n",
    "        print()\n",
    "        min_loss = np.min(loss_array)\n",
    "        min_loss_index = np.argmin(loss_array)\n",
    "        \n",
    "        alpha = 1/2 * np.log(1/min_loss - 1)\n",
    "        #print(self.w)\n",
    "        #更新w\n",
    "        temp_array = -alpha * self.y * self.G_x_vertor(cut_list[min_loss_index])\n",
    "        Zm = np.dot(self.w , np.exp(temp_array))\n",
    "        #print(\"y_predcit\")\n",
    "        #print(self.G_x_vertor(min_loss_index))\n",
    "        #print(temp_array)\n",
    "        #print(\"Zm\" + str(Zm))\n",
    "        self.w = self.w / Zm * np.exp(temp_array)\n",
    "        return alpha, cut_list[min_loss_index]\n",
    "    "
   ]
  },
  {
   "cell_type": "code",
   "execution_count": 9,
   "metadata": {},
   "outputs": [
    {
     "name": "stdout",
     "output_type": "stream",
     "text": [
      "第0轮\n",
      "w:\n",
      "[0.16666667 0.16666667 0.16666667 0.16666667 0.16666667 0.16666667]\n",
      "loss:\n",
      "[0.33333333 0.16666667 0.33333333 0.5        0.33333333]\n",
      "\n",
      "\n",
      "\n",
      "\n",
      "\n",
      "第1轮\n",
      "w:\n",
      "[0.1 0.1 0.1 0.1 0.5 0.1]\n",
      "loss:\n",
      "[0.6 0.5 0.6 0.7 0.2]\n",
      "\n",
      "\n",
      "\n",
      "\n",
      "\n",
      "第2轮\n",
      "w:\n",
      "[0.0625 0.0625 0.25   0.25   0.3125 0.0625]\n",
      "loss:\n",
      "[0.375  0.3125 0.5625 0.8125 0.5   ]\n",
      "\n",
      "\n",
      "\n",
      "\n",
      "\n"
     ]
    }
   ],
   "source": [
    "clf = my_adaboost()\n",
    "clf.fit(X, y)"
   ]
  },
  {
   "cell_type": "code",
   "execution_count": 10,
   "metadata": {},
   "outputs": [
    {
     "data": {
      "text/plain": [
       "array([0.80471896, 0.69314718, 0.39422868])"
      ]
     },
     "execution_count": 10,
     "metadata": {},
     "output_type": "execute_result"
    }
   ],
   "source": [
    "clf.alpha"
   ]
  },
  {
   "cell_type": "code",
   "execution_count": null,
   "metadata": {},
   "outputs": [],
   "source": [
    "clf.a"
   ]
  },
  {
   "cell_type": "markdown",
   "metadata": {},
   "source": [
    "$G(x) = 0.80471896G_1(x)+ 0.69314718G_2(x) +  0.39422868G_3(x)$"
   ]
  },
  {
   "cell_type": "code",
   "execution_count": null,
   "metadata": {},
   "outputs": [],
   "source": []
  },
  {
   "cell_type": "code",
   "execution_count": null,
   "metadata": {},
   "outputs": [],
   "source": []
  }
 ],
 "metadata": {
  "kernelspec": {
   "display_name": "Python 3",
   "language": "python",
   "name": "python3"
  },
  "language_info": {
   "codemirror_mode": {
    "name": "ipython",
    "version": 3
   },
   "file_extension": ".py",
   "mimetype": "text/x-python",
   "name": "python",
   "nbconvert_exporter": "python",
   "pygments_lexer": "ipython3",
   "version": "3.7.4"
  }
 },
 "nbformat": 4,
 "nbformat_minor": 2
}
