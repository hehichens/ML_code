{
 "cells": [
  {
   "cell_type": "code",
   "execution_count": 2,
   "metadata": {},
   "outputs": [
    {
     "name": "stdout",
     "output_type": "stream",
     "text": [
      "Using matplotlib backend: Qt5Agg\n",
      "Populating the interactive namespace from numpy and matplotlib\n"
     ]
    }
   ],
   "source": [
    "%pylab"
   ]
  },
  {
   "cell_type": "markdown",
   "metadata": {},
   "source": [
    "# 向量的基本性质"
   ]
  },
  {
   "cell_type": "code",
   "execution_count": 3,
   "metadata": {},
   "outputs": [],
   "source": [
    "# 向量\n",
    "a = np.array([1, 2])\n",
    "b = np.array([3, 4])"
   ]
  },
  {
   "cell_type": "code",
   "execution_count": 4,
   "metadata": {},
   "outputs": [
    {
     "data": {
      "text/plain": [
       "array([4, 6])"
      ]
     },
     "execution_count": 4,
     "metadata": {},
     "output_type": "execute_result"
    }
   ],
   "source": [
    "#加法\n",
    "a + b"
   ]
  },
  {
   "cell_type": "code",
   "execution_count": 5,
   "metadata": {},
   "outputs": [
    {
     "data": {
      "text/plain": [
       "array([2, 4])"
      ]
     },
     "execution_count": 5,
     "metadata": {},
     "output_type": "execute_result"
    }
   ],
   "source": [
    "#数乘\n",
    "2 * a"
   ]
  },
  {
   "cell_type": "markdown",
   "metadata": {},
   "source": [
    "## 点积\n",
    "- 定义：接受实数R上的两个向量A，B，输出一个实数\n",
    "- 意义：向量A，B的模乘以夹角余弦 $$ A \\cdot B = |A||B|\\cos{\\theta} $$"
   ]
  },
  {
   "cell_type": "code",
   "execution_count": 15,
   "metadata": {},
   "outputs": [
    {
     "data": {
      "text/plain": [
       "0"
      ]
     },
     "execution_count": 15,
     "metadata": {},
     "output_type": "execute_result"
    }
   ],
   "source": [
    "a = np.array([2, 2])\n",
    "b = np.array([2, -2])\n",
    "#內积\n",
    "np.inner(a, b) #1*3 + 2*4"
   ]
  },
  {
   "cell_type": "code",
   "execution_count": 18,
   "metadata": {},
   "outputs": [
    {
     "data": {
      "text/plain": [
       "4.898587196589414e-16"
      ]
     },
     "execution_count": 18,
     "metadata": {},
     "output_type": "execute_result"
    }
   ],
   "source": [
    "#根据夹角余弦计算內积\n",
    "\n",
    "# np.linalg.norm(a) = sqrt(2^2 + 2^2)\n",
    "np.linalg.norm(a) * np.linalg.norm(b) * np.cos(np.pi/2)"
   ]
  },
  {
   "cell_type": "markdown",
   "metadata": {},
   "source": [
    "### 点积作用\n",
    "- 计算夹角\n",
    "- 求向量分量：向量在某一方向上的分量等于该向量与这一方向上的单位向量的点积"
   ]
  },
  {
   "cell_type": "code",
   "execution_count": 28,
   "metadata": {},
   "outputs": [
    {
     "data": {
      "text/plain": [
       "71.56505117707799"
      ]
     },
     "execution_count": 28,
     "metadata": {},
     "output_type": "execute_result"
    }
   ],
   "source": [
    "# 计算夹角\n",
    "a = np.array([-1, 1, 0])\n",
    "b = np.array([-1, 0, 2])\n",
    "cosx = np.inner(a, b)/(np.linalg.norm(a)*np.linalg.norm(b))\n",
    "#np.arccos()输出弧度，转换成度数\n",
    "np.arccos(cosx)/np.pi*180"
   ]
  },
  {
   "cell_type": "code",
   "execution_count": 29,
   "metadata": {},
   "outputs": [
    {
     "data": {
      "text/plain": [
       "-1"
      ]
     },
     "execution_count": 29,
     "metadata": {},
     "output_type": "execute_result"
    }
   ],
   "source": [
    "#求向量分量\n",
    "#a在x轴上的分向量\n",
    "ex = np.array([1, 0, 0])\n",
    "np.inner(a, ex)"
   ]
  },
  {
   "cell_type": "markdown",
   "metadata": {},
   "source": [
    "## 叉积\n",
    "- 定义\n",
    "A = $\\begin{bmatrix}\n",
    "a_1 \\\\ \n",
    "a_2\n",
    "\\end{bmatrix}$\n",
    "\n",
    "B = $\\begin{bmatrix}\n",
    "b_1 \\\\ \n",
    "b_2\n",
    "\\end{bmatrix}$\n",
    "\n",
    "$A \\times B =$\n",
    "$\\begin{bmatrix}\n",
    "a_1 & b_1\\\\ \n",
    "a_2 & b_2\n",
    "\\end{bmatrix}$ = $a_1b_2 - a_2b_1$\n",
    "- 意义：平行四边形面积"
   ]
  },
  {
   "cell_type": "markdown",
   "metadata": {},
   "source": [
    "### 叉积作用\n",
    "- 计算面积    \n",
    "$ \\frac{1}{2} |A|\\times|B| $\n",
    " \n",
    "- 体积    \n",
    "$ A\\cdot (B \\times C)  $ \n",
    " \n",
    "- 判断共面: 向量A， B， C构成的平行六面体的体积是否为0，为0则共面\n",
    " \n",
    "- 计算法向量 \n",
    "$ N = A \\times C $"
   ]
  },
  {
   "cell_type": "code",
   "execution_count": 34,
   "metadata": {},
   "outputs": [
    {
     "data": {
      "text/plain": [
       "2.1213203435596424"
      ]
     },
     "execution_count": 34,
     "metadata": {},
     "output_type": "execute_result"
    }
   ],
   "source": [
    "#求p1(-1, 0, 1), p2(0, 2, 2), p3(0, -1, 2)三点围成的三角形面积\n",
    "p1 = np.array([-1, 0, 1])\n",
    "p2 = np.array([0, 2, 2])\n",
    "p3 = np.array([0, -1, 2])\n",
    "A = p1 - p2\n",
    "B = p1 - p3\n",
    "#面积\n",
    "1/2 * np.linalg.norm(np.cross(A, B))"
   ]
  },
  {
   "cell_type": "code",
   "execution_count": 39,
   "metadata": {},
   "outputs": [
    {
     "data": {
      "text/plain": [
       "2.0"
      ]
     },
     "execution_count": 39,
     "metadata": {},
     "output_type": "execute_result"
    }
   ],
   "source": [
    "#求p1(-1, 0, 1), p2(0, 2, 2), p3(0, -1, 2), p4(0, 0, 0)四点围成的四面体的体积\n",
    "p1 = np.array([-1, 0, 1])\n",
    "p2 = np.array([0, 2, 2])\n",
    "p3 = np.array([0, -1, 2])\n",
    "p4 = np.array([0 ,0, 0])\n",
    "A = p1 - p2\n",
    "B = p1 - p3\n",
    "C = p1 - p4\n",
    "B_times_C = np.cross(B, C)\n",
    "np.abs(1/3 * np.inner(A, B_times_C))"
   ]
  },
  {
   "cell_type": "code",
   "execution_count": 40,
   "metadata": {},
   "outputs": [
    {
     "data": {
      "text/plain": [
       "array([ 3,  0, -3])"
      ]
     },
     "execution_count": 40,
     "metadata": {},
     "output_type": "execute_result"
    }
   ],
   "source": [
    "#求p1(-1, 0, 1), p2(0, 2, 2), p3(0, -1, 2)三点构成平面的法向量\n",
    "p1 = np.array([-1, 0, 1])\n",
    "p2 = np.array([0, 2, 2])\n",
    "p3 = np.array([0, -1, 2])\n",
    "A = p1 - p2\n",
    "B = p1 - p3\n",
    "\n",
    "np.cross(A, B)"
   ]
  },
  {
   "cell_type": "markdown",
   "metadata": {},
   "source": [
    "# 行列式\n",
    "\n",
    "####  行列式的意义\n",
    "   行列式通常和方程组联系起来\n",
    "   \n",
    "   - det(I) != 0,则方程有唯一解 \n",
    "   \n",
    "   - det(I) = 0,则方程没有唯一解"
   ]
  },
  {
   "cell_type": "code",
   "execution_count": 43,
   "metadata": {},
   "outputs": [
    {
     "data": {
      "text/plain": [
       "-2.0000000000000004"
      ]
     },
     "execution_count": 43,
     "metadata": {},
     "output_type": "execute_result"
    }
   ],
   "source": [
    "#计算行列式\n",
    "A = np.arange(1, 5).reshape(2, 2)\n",
    "np.linalg.det(A)"
   ]
  }
 ],
 "metadata": {
  "kernelspec": {
   "display_name": "Python 3",
   "language": "python",
   "name": "python3"
  },
  "language_info": {
   "codemirror_mode": {
    "name": "ipython",
    "version": 3
   },
   "file_extension": ".py",
   "mimetype": "text/x-python",
   "name": "python",
   "nbconvert_exporter": "python",
   "pygments_lexer": "ipython3",
   "version": "3.6.4"
  }
 },
 "nbformat": 4,
 "nbformat_minor": 2
}
